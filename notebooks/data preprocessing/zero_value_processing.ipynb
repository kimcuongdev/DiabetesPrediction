{
 "cells": [
  {
   "cell_type": "code",
   "execution_count": 1,
   "id": "8c26d743",
   "metadata": {},
   "outputs": [],
   "source": [
    "import sys\n",
    "from pathlib import Path\n",
    "\n",
    "PROJECT_ROOT = Path.cwd().parent.parent\n",
    "\n",
    "if str(PROJECT_ROOT) not in sys.path:\n",
    "    sys.path.insert(0, str(PROJECT_ROOT))"
   ]
  },
  {
   "cell_type": "code",
   "execution_count": 2,
   "id": "05ca7b14",
   "metadata": {},
   "outputs": [],
   "source": [
    "import importlib\n",
    "import src.config as cfg\n",
    "importlib.reload(cfg)\n",
    "\n",
    "PROCESSED_DATA_DIR = cfg.PROCESSED_DATA_DIR\n",
    "ZERO_TO_NAN_FILE = PROCESSED_DATA_DIR / 'zero_to_nan.csv'"
   ]
  },
  {
   "cell_type": "code",
   "execution_count": 3,
   "id": "56f89133",
   "metadata": {},
   "outputs": [],
   "source": [
    "import pandas as pd"
   ]
  },
  {
   "cell_type": "code",
   "execution_count": 4,
   "id": "d065894d",
   "metadata": {},
   "outputs": [],
   "source": [
    "df = pd.read_csv(ZERO_TO_NAN_FILE)"
   ]
  },
  {
   "cell_type": "markdown",
   "id": "eafddbbf",
   "metadata": {},
   "source": [
    "Do tập dữ liệu có nhiều điểm ngoại lai nên tiến hành thay thế các giá trị 0 thành giá trị mean của các mẫu dữ liệu cùng nhãn lớp"
   ]
  },
  {
   "cell_type": "code",
   "execution_count": 5,
   "id": "b1da68db",
   "metadata": {},
   "outputs": [],
   "source": [
    "def class_fill_na(column):\n",
    "    not_null_val = df[df[column].notnull()][[column, 'Outcome']]\n",
    "    median_value = not_null_val.groupby(['Outcome'])[[column]].median().reset_index()\n",
    "    df.loc[(df['Outcome'] == 0) & (df[column].isnull()), column] = median_value[column][0]\n",
    "    df.loc[(df['Outcome'] == 1) & (df[column].isnull()), column] = median_value[column][1]"
   ]
  },
  {
   "cell_type": "code",
   "execution_count": 6,
   "id": "9f1e8649",
   "metadata": {},
   "outputs": [],
   "source": [
    "non_zero_columns = ['Glucose', 'BloodPressure', 'SkinThickness', 'Insulin', 'BMI']\n",
    "for column in non_zero_columns:\n",
    "    class_fill_na(column)"
   ]
  },
  {
   "cell_type": "code",
   "execution_count": 7,
   "id": "eeefe062",
   "metadata": {},
   "outputs": [
    {
     "data": {
      "text/plain": [
       "Pregnancies                 0\n",
       "Glucose                     0\n",
       "BloodPressure               0\n",
       "SkinThickness               0\n",
       "Insulin                     0\n",
       "BMI                         0\n",
       "DiabetesPedigreeFunction    0\n",
       "Age                         0\n",
       "Outcome                     0\n",
       "dtype: int64"
      ]
     },
     "execution_count": 7,
     "metadata": {},
     "output_type": "execute_result"
    }
   ],
   "source": [
    "df.isnull().sum()"
   ]
  },
  {
   "cell_type": "code",
   "execution_count": 9,
   "id": "4f4dbd35",
   "metadata": {},
   "outputs": [],
   "source": [
    "NAN_TO_MEDIAN_FILE = PROCESSED_DATA_DIR / 'nan_to_median.csv'\n",
    "df.to_csv(NAN_TO_MEDIAN_FILE, index= False)"
   ]
  }
 ],
 "metadata": {
  "kernelspec": {
   "display_name": "venv",
   "language": "python",
   "name": "python3"
  },
  "language_info": {
   "codemirror_mode": {
    "name": "ipython",
    "version": 3
   },
   "file_extension": ".py",
   "mimetype": "text/x-python",
   "name": "python",
   "nbconvert_exporter": "python",
   "pygments_lexer": "ipython3",
   "version": "3.11.0"
  }
 },
 "nbformat": 4,
 "nbformat_minor": 5
}
