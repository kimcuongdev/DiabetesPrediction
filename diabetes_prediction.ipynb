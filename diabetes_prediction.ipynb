{
 "cells": [
  {
   "cell_type": "code",
   "execution_count": 1,
   "id": "6fcea594",
   "metadata": {},
   "outputs": [],
   "source": [
    "import numpy as np\n",
    "import pandas as pd\n",
    "from sklearn.preprocessing import StandardScaler\n",
    "from sklearn.model_selection import train_test_split\n",
    "from sklearn import svm\n",
    "from sklearn.metrics import accuracy_score\n",
    "import seaborn as sns\n",
    "import matplotlib.pyplot as plt"
   ]
  },
  {
   "cell_type": "markdown",
   "id": "55cd1228",
   "metadata": {},
   "source": [
    "# Thu thập và tiền xử lý dữ liệu"
   ]
  },
  {
   "cell_type": "markdown",
   "id": "42262a18",
   "metadata": {},
   "source": [
    "## Thu thập dữ liệu"
   ]
  },
  {
   "cell_type": "code",
   "execution_count": 2,
   "id": "019f4e55",
   "metadata": {},
   "outputs": [],
   "source": [
    "diabetes_dataset = pd.read_csv('diabetes.csv')"
   ]
  },
  {
   "cell_type": "markdown",
   "id": "af49f079",
   "metadata": {},
   "source": [
    "## Thông tin chung về dataset"
   ]
  },
  {
   "cell_type": "markdown",
   "id": "38143f53",
   "metadata": {},
   "source": [
    "**Hiển thị ra 5 cột đầu của dataset**"
   ]
  },
  {
   "cell_type": "code",
   "execution_count": 3,
   "id": "11932522",
   "metadata": {},
   "outputs": [
    {
     "data": {
      "text/html": [
       "<div>\n",
       "<style scoped>\n",
       "    .dataframe tbody tr th:only-of-type {\n",
       "        vertical-align: middle;\n",
       "    }\n",
       "\n",
       "    .dataframe tbody tr th {\n",
       "        vertical-align: top;\n",
       "    }\n",
       "\n",
       "    .dataframe thead th {\n",
       "        text-align: right;\n",
       "    }\n",
       "</style>\n",
       "<table border=\"1\" class=\"dataframe\">\n",
       "  <thead>\n",
       "    <tr style=\"text-align: right;\">\n",
       "      <th></th>\n",
       "      <th>Pregnancies</th>\n",
       "      <th>Glucose</th>\n",
       "      <th>BloodPressure</th>\n",
       "      <th>SkinThickness</th>\n",
       "      <th>Insulin</th>\n",
       "      <th>BMI</th>\n",
       "      <th>DiabetesPedigreeFunction</th>\n",
       "      <th>Age</th>\n",
       "      <th>Outcome</th>\n",
       "    </tr>\n",
       "  </thead>\n",
       "  <tbody>\n",
       "    <tr>\n",
       "      <th>0</th>\n",
       "      <td>6</td>\n",
       "      <td>148</td>\n",
       "      <td>72</td>\n",
       "      <td>35</td>\n",
       "      <td>0</td>\n",
       "      <td>33.6</td>\n",
       "      <td>0.627</td>\n",
       "      <td>50</td>\n",
       "      <td>1</td>\n",
       "    </tr>\n",
       "    <tr>\n",
       "      <th>1</th>\n",
       "      <td>1</td>\n",
       "      <td>85</td>\n",
       "      <td>66</td>\n",
       "      <td>29</td>\n",
       "      <td>0</td>\n",
       "      <td>26.6</td>\n",
       "      <td>0.351</td>\n",
       "      <td>31</td>\n",
       "      <td>0</td>\n",
       "    </tr>\n",
       "    <tr>\n",
       "      <th>2</th>\n",
       "      <td>8</td>\n",
       "      <td>183</td>\n",
       "      <td>64</td>\n",
       "      <td>0</td>\n",
       "      <td>0</td>\n",
       "      <td>23.3</td>\n",
       "      <td>0.672</td>\n",
       "      <td>32</td>\n",
       "      <td>1</td>\n",
       "    </tr>\n",
       "    <tr>\n",
       "      <th>3</th>\n",
       "      <td>1</td>\n",
       "      <td>89</td>\n",
       "      <td>66</td>\n",
       "      <td>23</td>\n",
       "      <td>94</td>\n",
       "      <td>28.1</td>\n",
       "      <td>0.167</td>\n",
       "      <td>21</td>\n",
       "      <td>0</td>\n",
       "    </tr>\n",
       "    <tr>\n",
       "      <th>4</th>\n",
       "      <td>0</td>\n",
       "      <td>137</td>\n",
       "      <td>40</td>\n",
       "      <td>35</td>\n",
       "      <td>168</td>\n",
       "      <td>43.1</td>\n",
       "      <td>2.288</td>\n",
       "      <td>33</td>\n",
       "      <td>1</td>\n",
       "    </tr>\n",
       "  </tbody>\n",
       "</table>\n",
       "</div>"
      ],
      "text/plain": [
       "   Pregnancies  Glucose  BloodPressure  SkinThickness  Insulin   BMI  \\\n",
       "0            6      148             72             35        0  33.6   \n",
       "1            1       85             66             29        0  26.6   \n",
       "2            8      183             64              0        0  23.3   \n",
       "3            1       89             66             23       94  28.1   \n",
       "4            0      137             40             35      168  43.1   \n",
       "\n",
       "   DiabetesPedigreeFunction  Age  Outcome  \n",
       "0                     0.627   50        1  \n",
       "1                     0.351   31        0  \n",
       "2                     0.672   32        1  \n",
       "3                     0.167   21        0  \n",
       "4                     2.288   33        1  "
      ]
     },
     "execution_count": 3,
     "metadata": {},
     "output_type": "execute_result"
    }
   ],
   "source": [
    "diabetes_dataset.head()"
   ]
  },
  {
   "cell_type": "markdown",
   "id": "b74b28be",
   "metadata": {},
   "source": [
    "Dữ liệu này liên quan đến các bệnh nhân nữ từ 21 tuổi trở lên, thuộc di sản Pima Indian, với mục tiêu dự đoán nguy cơ tiểu đường. Dưới đây là giải thích các thuộc tính:"
   ]
  },
  {
   "cell_type": "markdown",
   "id": "d12dbba7",
   "metadata": {},
   "source": [
    "* Pregnancies (Số lần mang thai): Số lần bệnh nhân mang thai. Thuộc tính này có thể liên quan đến nguy cơ tiểu đường do thay đổi nội tiết khi mang thai.\n",
    "\n",
    "* Glucose (Nồng độ glucose huyết tương): Đo nồng độ glucose trong máu sau 2 giờ thực hiện bài kiểm tra dung nạp glucose đường uống (mg/dL). Giá trị cao có thể là dấu hiệu của tiểu đường.\n",
    "\n",
    "* BloodPressure (Huyết áp tâm trương): Huyết áp tâm trương (mm Hg), phản ánh áp lực máu khi tim nghỉ giữa các nhịp đập. Huyết áp cao thường liên quan đến nguy cơ tiểu đường và bệnh tim mạch.\n",
    "\n",
    "* SkinThickness (Độ dày nếp gấp da vùng bắp tay sau): Đo độ dày lớp da ở vùng bắp tay sau (mm), phản ánh lượng mỡ dưới da. Giá trị cao có thể liên quan đến béo phì, một yếu tố nguy cơ của tiểu đường.\n",
    "\n",
    "* Insulin (Insulin huyết thanh 2 giờ): Nồng độ insulin trong máu sau 2 giờ (mu U/ml). Giá trị này giúp đánh giá khả năng sản xuất insulin của cơ thể, có thể bất thường ở bệnh nhân tiểu đường.\n",
    "\n",
    "* BMI (Chỉ số khối cơ thể): Tính bằng công thức trọng lượng (kg) / (chiều cao (m))^2. BMI cao (béo phì) là yếu tố nguy cơ chính của tiểu đường loại 2.\n",
    "\n",
    "* DiabetesPedigreeFunction (Hàm phả hệ tiểu đường): Một chỉ số đo lường nguy cơ di truyền của tiểu đường dựa trên tiền sử gia đình. Giá trị cao cho thấy nguy cơ di truyền lớn hơn.\n",
    "\n",
    "* Age (Tuổi): Tuổi của bệnh nhân (tính bằng năm). Tuổi cao thường làm tăng nguy cơ tiểu đường loại 2 do sự suy giảm chức năng cơ thể.\n",
    "\n",
    "* Outcome (Kết quả): Biến phân loại (0 hoặc 1), trong đó 0 là không bị tiểu đường, 1 là có tiểu đường. Đây là biến mục tiêu để dự đoán."
   ]
  },
  {
   "cell_type": "markdown",
   "id": "6892c303",
   "metadata": {},
   "source": [
    "**Số hàng, số cột dữ liệu**"
   ]
  },
  {
   "cell_type": "markdown",
   "id": "c1e0503e",
   "metadata": {},
   "source": [
    "Số chiều quá lớn có thể khiến mô hình khó học"
   ]
  },
  {
   "cell_type": "markdown",
   "id": "4782e155",
   "metadata": {},
   "source": [
    "Giải pháp: Giảm chiều dữ liệu\n",
    "* Feature Extraction: Trích xuất đặc trưng: Tạo ra các đặc trưng mới từ các đặc trưng cũ => giảm chiều dữ liệu\n",
    "* Feature Selection: Chọn lọc đặc trưng: giữ lại đặc trưng quan trọng nhất, bỏ đặc trưng gây nhiễu"
   ]
  },
  {
   "cell_type": "code",
   "execution_count": 4,
   "id": "12168a65",
   "metadata": {},
   "outputs": [
    {
     "data": {
      "text/plain": [
       "(768, 9)"
      ]
     },
     "execution_count": 4,
     "metadata": {},
     "output_type": "execute_result"
    }
   ],
   "source": [
    "diabetes_dataset.shape"
   ]
  },
  {
   "cell_type": "markdown",
   "id": "a457c9b0",
   "metadata": {},
   "source": [
    "Dữ liệu này không có quá nhiều dữ liệu => không cần giảm chiều"
   ]
  },
  {
   "cell_type": "markdown",
   "id": "7ff4f44c",
   "metadata": {},
   "source": [
    "**Thông tin chung về dataset**"
   ]
  },
  {
   "cell_type": "markdown",
   "id": "c9bb1855",
   "metadata": {},
   "source": [
    "Phương thức info() của một DataFrame sẽ hiển thị ra thông tin tóm tắt về:\n",
    "* Tên cột\n",
    "* Số giá trị không bị khuyết thiếu\n",
    "* Kiểu dữ liệu của cột\n",
    "* Dung lượng\n"
   ]
  },
  {
   "cell_type": "code",
   "execution_count": 5,
   "id": "63ac3285",
   "metadata": {},
   "outputs": [
    {
     "name": "stdout",
     "output_type": "stream",
     "text": [
      "<class 'pandas.core.frame.DataFrame'>\n",
      "RangeIndex: 768 entries, 0 to 767\n",
      "Data columns (total 9 columns):\n",
      " #   Column                    Non-Null Count  Dtype  \n",
      "---  ------                    --------------  -----  \n",
      " 0   Pregnancies               768 non-null    int64  \n",
      " 1   Glucose                   768 non-null    int64  \n",
      " 2   BloodPressure             768 non-null    int64  \n",
      " 3   SkinThickness             768 non-null    int64  \n",
      " 4   Insulin                   768 non-null    int64  \n",
      " 5   BMI                       768 non-null    float64\n",
      " 6   DiabetesPedigreeFunction  768 non-null    float64\n",
      " 7   Age                       768 non-null    int64  \n",
      " 8   Outcome                   768 non-null    int64  \n",
      "dtypes: float64(2), int64(7)\n",
      "memory usage: 54.1 KB\n"
     ]
    }
   ],
   "source": [
    "diabetes_dataset.info()"
   ]
  },
  {
   "cell_type": "markdown",
   "id": "d4e3ead7",
   "metadata": {},
   "source": [
    "**Thông tin thống kê của dữ liệu**"
   ]
  },
  {
   "cell_type": "markdown",
   "id": "df62b023",
   "metadata": {},
   "source": [
    "Phương thức describe của DataFrame hiển thị ra thông tin của các trường dữ liệu:\n",
    "* Số lượng\n",
    "* Trung bình\n",
    "* Độ lệch chuẩn\n",
    "* min\n",
    "* 25%: Phân vị thứ 25 (dữ liệu ở dưới mức này chiếm 25%).\n",
    "* 50% (median): Phân vị thứ 50, hay còn gọi là trung vị.\n",
    "* 75%: Phân vị thứ 75 (dữ liệu ở dưới mức này chiếm 75%).\n",
    "* max"
   ]
  },
  {
   "cell_type": "code",
   "execution_count": 6,
   "id": "bdb95a6e",
   "metadata": {},
   "outputs": [
    {
     "data": {
      "text/html": [
       "<div>\n",
       "<style scoped>\n",
       "    .dataframe tbody tr th:only-of-type {\n",
       "        vertical-align: middle;\n",
       "    }\n",
       "\n",
       "    .dataframe tbody tr th {\n",
       "        vertical-align: top;\n",
       "    }\n",
       "\n",
       "    .dataframe thead th {\n",
       "        text-align: right;\n",
       "    }\n",
       "</style>\n",
       "<table border=\"1\" class=\"dataframe\">\n",
       "  <thead>\n",
       "    <tr style=\"text-align: right;\">\n",
       "      <th></th>\n",
       "      <th>Pregnancies</th>\n",
       "      <th>Glucose</th>\n",
       "      <th>BloodPressure</th>\n",
       "      <th>SkinThickness</th>\n",
       "      <th>Insulin</th>\n",
       "      <th>BMI</th>\n",
       "      <th>DiabetesPedigreeFunction</th>\n",
       "      <th>Age</th>\n",
       "      <th>Outcome</th>\n",
       "    </tr>\n",
       "  </thead>\n",
       "  <tbody>\n",
       "    <tr>\n",
       "      <th>count</th>\n",
       "      <td>768.000000</td>\n",
       "      <td>768.000000</td>\n",
       "      <td>768.000000</td>\n",
       "      <td>768.000000</td>\n",
       "      <td>768.000000</td>\n",
       "      <td>768.000000</td>\n",
       "      <td>768.000000</td>\n",
       "      <td>768.000000</td>\n",
       "      <td>768.000000</td>\n",
       "    </tr>\n",
       "    <tr>\n",
       "      <th>mean</th>\n",
       "      <td>3.845052</td>\n",
       "      <td>120.894531</td>\n",
       "      <td>69.105469</td>\n",
       "      <td>20.536458</td>\n",
       "      <td>79.799479</td>\n",
       "      <td>31.992578</td>\n",
       "      <td>0.471876</td>\n",
       "      <td>33.240885</td>\n",
       "      <td>0.348958</td>\n",
       "    </tr>\n",
       "    <tr>\n",
       "      <th>std</th>\n",
       "      <td>3.369578</td>\n",
       "      <td>31.972618</td>\n",
       "      <td>19.355807</td>\n",
       "      <td>15.952218</td>\n",
       "      <td>115.244002</td>\n",
       "      <td>7.884160</td>\n",
       "      <td>0.331329</td>\n",
       "      <td>11.760232</td>\n",
       "      <td>0.476951</td>\n",
       "    </tr>\n",
       "    <tr>\n",
       "      <th>min</th>\n",
       "      <td>0.000000</td>\n",
       "      <td>0.000000</td>\n",
       "      <td>0.000000</td>\n",
       "      <td>0.000000</td>\n",
       "      <td>0.000000</td>\n",
       "      <td>0.000000</td>\n",
       "      <td>0.078000</td>\n",
       "      <td>21.000000</td>\n",
       "      <td>0.000000</td>\n",
       "    </tr>\n",
       "    <tr>\n",
       "      <th>25%</th>\n",
       "      <td>1.000000</td>\n",
       "      <td>99.000000</td>\n",
       "      <td>62.000000</td>\n",
       "      <td>0.000000</td>\n",
       "      <td>0.000000</td>\n",
       "      <td>27.300000</td>\n",
       "      <td>0.243750</td>\n",
       "      <td>24.000000</td>\n",
       "      <td>0.000000</td>\n",
       "    </tr>\n",
       "    <tr>\n",
       "      <th>50%</th>\n",
       "      <td>3.000000</td>\n",
       "      <td>117.000000</td>\n",
       "      <td>72.000000</td>\n",
       "      <td>23.000000</td>\n",
       "      <td>30.500000</td>\n",
       "      <td>32.000000</td>\n",
       "      <td>0.372500</td>\n",
       "      <td>29.000000</td>\n",
       "      <td>0.000000</td>\n",
       "    </tr>\n",
       "    <tr>\n",
       "      <th>75%</th>\n",
       "      <td>6.000000</td>\n",
       "      <td>140.250000</td>\n",
       "      <td>80.000000</td>\n",
       "      <td>32.000000</td>\n",
       "      <td>127.250000</td>\n",
       "      <td>36.600000</td>\n",
       "      <td>0.626250</td>\n",
       "      <td>41.000000</td>\n",
       "      <td>1.000000</td>\n",
       "    </tr>\n",
       "    <tr>\n",
       "      <th>max</th>\n",
       "      <td>17.000000</td>\n",
       "      <td>199.000000</td>\n",
       "      <td>122.000000</td>\n",
       "      <td>99.000000</td>\n",
       "      <td>846.000000</td>\n",
       "      <td>67.100000</td>\n",
       "      <td>2.420000</td>\n",
       "      <td>81.000000</td>\n",
       "      <td>1.000000</td>\n",
       "    </tr>\n",
       "  </tbody>\n",
       "</table>\n",
       "</div>"
      ],
      "text/plain": [
       "       Pregnancies     Glucose  BloodPressure  SkinThickness     Insulin  \\\n",
       "count   768.000000  768.000000     768.000000     768.000000  768.000000   \n",
       "mean      3.845052  120.894531      69.105469      20.536458   79.799479   \n",
       "std       3.369578   31.972618      19.355807      15.952218  115.244002   \n",
       "min       0.000000    0.000000       0.000000       0.000000    0.000000   \n",
       "25%       1.000000   99.000000      62.000000       0.000000    0.000000   \n",
       "50%       3.000000  117.000000      72.000000      23.000000   30.500000   \n",
       "75%       6.000000  140.250000      80.000000      32.000000  127.250000   \n",
       "max      17.000000  199.000000     122.000000      99.000000  846.000000   \n",
       "\n",
       "              BMI  DiabetesPedigreeFunction         Age     Outcome  \n",
       "count  768.000000                768.000000  768.000000  768.000000  \n",
       "mean    31.992578                  0.471876   33.240885    0.348958  \n",
       "std      7.884160                  0.331329   11.760232    0.476951  \n",
       "min      0.000000                  0.078000   21.000000    0.000000  \n",
       "25%     27.300000                  0.243750   24.000000    0.000000  \n",
       "50%     32.000000                  0.372500   29.000000    0.000000  \n",
       "75%     36.600000                  0.626250   41.000000    1.000000  \n",
       "max     67.100000                  2.420000   81.000000    1.000000  "
      ]
     },
     "execution_count": 6,
     "metadata": {},
     "output_type": "execute_result"
    }
   ],
   "source": [
    "diabetes_dataset.describe()"
   ]
  },
  {
   "cell_type": "markdown",
   "id": "1e3b6163",
   "metadata": {},
   "source": [
    "## Chia tập dữ liệu"
   ]
  },
  {
   "cell_type": "markdown",
   "id": "106e748a",
   "metadata": {},
   "source": [
    "Chia dữ liệu theo chiến lược lấy mẫu phân tầng (Stratified Sampling)"
   ]
  },
  {
   "cell_type": "code",
   "execution_count": 7,
   "id": "c1b98524",
   "metadata": {},
   "outputs": [],
   "source": [
    "X = diabetes_dataset.drop(['Outcome'], axis= 1)\n",
    "y = diabetes_dataset['Outcome']"
   ]
  },
  {
   "cell_type": "code",
   "execution_count": 8,
   "id": "e3c330ea",
   "metadata": {},
   "outputs": [],
   "source": [
    "X_train, X_test, y_train, y_test = train_test_split(X, y, test_size= 0.2, random_state= 42, stratify= y)"
   ]
  },
  {
   "cell_type": "markdown",
   "id": "aa518fdc",
   "metadata": {},
   "source": [
    "## Kiểm tra dữ liệu"
   ]
  },
  {
   "cell_type": "markdown",
   "id": "075c3ec3",
   "metadata": {},
   "source": [
    "### **Kiểm tra dữ liệu bị khuyết thiếu**"
   ]
  },
  {
   "cell_type": "code",
   "execution_count": 9,
   "id": "2e54bbe2",
   "metadata": {},
   "outputs": [
    {
     "data": {
      "text/plain": [
       "Pregnancies                 0\n",
       "Glucose                     0\n",
       "BloodPressure               0\n",
       "SkinThickness               0\n",
       "Insulin                     0\n",
       "BMI                         0\n",
       "DiabetesPedigreeFunction    0\n",
       "Age                         0\n",
       "Outcome                     0\n",
       "dtype: int64"
      ]
     },
     "execution_count": 9,
     "metadata": {},
     "output_type": "execute_result"
    }
   ],
   "source": [
    "diabetes_dataset.isnull().sum()"
   ]
  },
  {
   "cell_type": "markdown",
   "id": "69138a78",
   "metadata": {},
   "source": [
    "### **Kiểm tra tương quan**"
   ]
  },
  {
   "cell_type": "code",
   "execution_count": 10,
   "id": "c2bdffb9",
   "metadata": {},
   "outputs": [],
   "source": [
    "correlation = diabetes_dataset.corr(numeric_only= True)"
   ]
  },
  {
   "cell_type": "code",
   "execution_count": 11,
   "id": "6203d4e0",
   "metadata": {},
   "outputs": [
    {
     "data": {
      "text/plain": [
       "<Axes: >"
      ]
     },
     "execution_count": 11,
     "metadata": {},
     "output_type": "execute_result"
    },
    {
     "data": {
      "image/png": "[encoded data removed]",
      "text/plain": [
       "<Figure size 800x800 with 2 Axes>"
      ]
     },
     "metadata": {},
     "output_type": "display_data"
    }
   ],
   "source": [
    "plt.figure(figsize= (8,8))\n",
    "sns.heatmap(correlation, \n",
    "            cbar= True, \n",
    "            square= True, \n",
    "            fmt= '.2f', \n",
    "            annot= True, \n",
    "            annot_kws= {'size': 8}, \n",
    "            cmap= 'Blues')"
   ]
  },
  {
   "cell_type": "markdown",
   "id": "81f72f1d",
   "metadata": {},
   "source": [
    "Không có cặp thuộc tính nào quá tương quan với nhau"
   ]
  },
  {
   "cell_type": "markdown",
   "id": "a2bbcb6b",
   "metadata": {},
   "source": [
    "### **Kiểm tra ngoại lai**"
   ]
  },
  {
   "cell_type": "markdown",
   "id": "89fd34ba",
   "metadata": {},
   "source": [
    "Thực hiện kiểm tra ngoại lai trên tập dữ liệu huấn luyện"
   ]
  },
  {
   "cell_type": "markdown",
   "id": "dd99494e",
   "metadata": {},
   "source": [
    "#### Kiểm tra ngoại lai sử dụng **IQR (Interquartile Range)**:\n",
    "* Xác định Q1 (tứ phân vị thứ nhất): Giá trị ở vị trí 25% của dữ liệu (phân vị 25).\n",
    "* Xác định Q3 (tứ phân vị thứ ba): Giá trị ở vị trí 75% của dữ liệu (phân vị 75).\n",
    "* Tính IQR = Q3 - Q1.\n",
    "\n",
    "Ý nghĩa:\n",
    "* IQR biểu thị khoảng cách giữa 50% dữ liệu ở giữa, loại bỏ ảnh hưởng của các giá trị cực đại hoặc cực tiểu.\n",
    "* Thường được dùng để xác định ngoại lai: Dữ liệu nằm ngoài khoảng [Q1 - 1.5IQR, Q3 + 1.5IQR] được coi là ngoại lai."
   ]
  },
  {
   "cell_type": "markdown",
   "id": "aa6b41c7",
   "metadata": {},
   "source": [
    "#### Sử dụng **biểu đồ hộp (boxplot)** để phát hiện ngoại lai:\n",
    "\n",
    "Các thành phần chính trong biểu đồ cột:\n",
    "* **Hộp:**\n",
    "  * Đại diện cho khoảng tứ phân vị (IQR), là khoảng cách giữa Q1 (tứ phân vị thứ nhất, 25% dưới) và Q3 (tứ phân vị thứ ba, 75% trên).\n",
    "  * Hộp chứa 50% dữ liệu ở giữa, cho thấy độ phân tán của phần trung tâm của tập dữ liệu.\n",
    "* **Đường giữa hộp:**\n",
    "  * Là giá trị Q2 (tứ phân vị thứ hai, 50%), tức là giá trị trung tâm của dữ liệu.\n",
    "  * Nếu trung vị gần Q1 hơn Q3, dữ liệu lệch phải (skewed right); nếu gần Q3 hơn Q1, dữ liệu lệch trái (skewed left).\n",
    "* **Râu (Whiskers):**\n",
    "  * Là các đường kéo dài từ hai đầu của hộp, thể hiện phạm vi dữ liệu không phải ngoại lai.\n",
    "  * Râu dưới kéo dài từ Q1 đến giá trị nhỏ nhất trong khoảng [Q1 - 1.5*IQR, Q1].\n",
    "  * Râu trên kéo dài từ Q3 đến giá trị lớn nhất trong khoảng [Q3, Q3 + 1.5*IQR].\n",
    "* **Ngoại lai (Outliers):**\n",
    "  * Là các điểm dữ liệu nằm ngoài khoảng [Q1 - 1.5IQR, Q3 + 1.5IQR], thường được biểu diễn bằng các chấm hoặc ký hiệu riêng.\n",
    "  * Những điểm này cho thấy các giá trị bất thường trong tập dữ liệu."
   ]
  },
  {
   "cell_type": "code",
   "execution_count": 12,
   "id": "a3b7c9f8",
   "metadata": {},
   "outputs": [],
   "source": [
    "train_data = X_train.copy()\n",
    "train_data['Outcome'] = y_train"
   ]
  },
  {
   "cell_type": "markdown",
   "id": "915f021e",
   "metadata": {},
   "source": [
    "#### Thử xử lý ngoại lai với cột BMI:"
   ]
  },
  {
   "cell_type": "code",
   "execution_count": 13,
   "id": "68aa394b",
   "metadata": {},
   "outputs": [
    {
     "name": "stdout",
     "output_type": "stream",
     "text": [
      "Q1_0 = 25.475, Q3_0 = 34.925, IQR_0 = 9.449999999999996\n",
      "upper_bound_0 = 49.099999999999994, lower_bound_0 = 11.300000000000008\n",
      "upper_bound_1 = 51.45000000000001, lower_bound_1 = 18.449999999999996\n"
     ]
    }
   ],
   "source": [
    "\n",
    "group_0 = train_data[train_data['Outcome'] == 0].copy()\n",
    "group_1 = train_data[train_data['Outcome'] == 1].copy()\n",
    "\n",
    "Q1_0 = group_0['BMI'].quantile(0.25)\n",
    "Q3_0 = group_0['BMI'].quantile(0.75)\n",
    "IQR_0 = Q3_0 - Q1_0\n",
    "print(f\"Q1_0 = {Q1_0}, Q3_0 = {Q3_0}, IQR_0 = {IQR_0}\")\n",
    "upper_bound_0 = Q3_0 + 1.5*IQR_0\n",
    "lower_bound_0 = max(Q1_0 - 1.5*IQR_0, 0)\n",
    "\n",
    "print(f\"upper_bound_0 = {upper_bound_0}, lower_bound_0 = {lower_bound_0}\")\n",
    "\n",
    "# Xử lý ngoại lai trên nhãn Outcome = 1\n",
    "# Tính Q1, Q3 và IQR\n",
    "Q1_1 = group_1['BMI'].quantile(0.25)\n",
    "Q3_1 = group_1['BMI'].quantile(0.75)\n",
    "IQR_1 = Q3_1 - Q1_1\n",
    "\n",
    "# Tính các giá trị biên\n",
    "upper_bound_1 = Q3_1 + 1.5*IQR_1\n",
    "lower_bound_1 = max(Q1_1 - 1.5*IQR_1, 0)\n",
    "print(f\"upper_bound_1 = {upper_bound_1}, lower_bound_1 = {lower_bound_1}\")\n"
   ]
  },
  {
   "cell_type": "code",
   "execution_count": 14,
   "id": "de2a23fc",
   "metadata": {},
   "outputs": [],
   "source": [
    "outliers_0 = group_0[(group_0['BMI'] > upper_bound_0) | (group_0['BMI'] < lower_bound_0)]"
   ]
  },
  {
   "cell_type": "code",
   "execution_count": 15,
   "id": "1ac65acc",
   "metadata": {},
   "outputs": [
    {
     "data": {
      "text/html": [
       "<div>\n",
       "<style scoped>\n",
       "    .dataframe tbody tr th:only-of-type {\n",
       "        vertical-align: middle;\n",
       "    }\n",
       "\n",
       "    .dataframe tbody tr th {\n",
       "        vertical-align: top;\n",
       "    }\n",
       "\n",
       "    .dataframe thead th {\n",
       "        text-align: right;\n",
       "    }\n",
       "</style>\n",
       "<table border=\"1\" class=\"dataframe\">\n",
       "  <thead>\n",
       "    <tr style=\"text-align: right;\">\n",
       "      <th></th>\n",
       "      <th>Pregnancies</th>\n",
       "      <th>Glucose</th>\n",
       "      <th>BloodPressure</th>\n",
       "      <th>SkinThickness</th>\n",
       "      <th>Insulin</th>\n",
       "      <th>BMI</th>\n",
       "      <th>DiabetesPedigreeFunction</th>\n",
       "      <th>Age</th>\n",
       "      <th>Outcome</th>\n",
       "    </tr>\n",
       "  </thead>\n",
       "  <tbody>\n",
       "    <tr>\n",
       "      <th>60</th>\n",
       "      <td>2</td>\n",
       "      <td>84</td>\n",
       "      <td>0</td>\n",
       "      <td>0</td>\n",
       "      <td>0</td>\n",
       "      <td>0.0</td>\n",
       "      <td>0.304</td>\n",
       "      <td>21</td>\n",
       "      <td>0</td>\n",
       "    </tr>\n",
       "    <tr>\n",
       "      <th>684</th>\n",
       "      <td>5</td>\n",
       "      <td>136</td>\n",
       "      <td>82</td>\n",
       "      <td>0</td>\n",
       "      <td>0</td>\n",
       "      <td>0.0</td>\n",
       "      <td>0.640</td>\n",
       "      <td>69</td>\n",
       "      <td>0</td>\n",
       "    </tr>\n",
       "    <tr>\n",
       "      <th>673</th>\n",
       "      <td>3</td>\n",
       "      <td>123</td>\n",
       "      <td>100</td>\n",
       "      <td>35</td>\n",
       "      <td>240</td>\n",
       "      <td>57.3</td>\n",
       "      <td>0.880</td>\n",
       "      <td>22</td>\n",
       "      <td>0</td>\n",
       "    </tr>\n",
       "    <tr>\n",
       "      <th>522</th>\n",
       "      <td>6</td>\n",
       "      <td>114</td>\n",
       "      <td>0</td>\n",
       "      <td>0</td>\n",
       "      <td>0</td>\n",
       "      <td>0.0</td>\n",
       "      <td>0.189</td>\n",
       "      <td>26</td>\n",
       "      <td>0</td>\n",
       "    </tr>\n",
       "    <tr>\n",
       "      <th>426</th>\n",
       "      <td>0</td>\n",
       "      <td>94</td>\n",
       "      <td>0</td>\n",
       "      <td>0</td>\n",
       "      <td>0</td>\n",
       "      <td>0.0</td>\n",
       "      <td>0.256</td>\n",
       "      <td>25</td>\n",
       "      <td>0</td>\n",
       "    </tr>\n",
       "    <tr>\n",
       "      <th>145</th>\n",
       "      <td>0</td>\n",
       "      <td>102</td>\n",
       "      <td>75</td>\n",
       "      <td>23</td>\n",
       "      <td>0</td>\n",
       "      <td>0.0</td>\n",
       "      <td>0.572</td>\n",
       "      <td>21</td>\n",
       "      <td>0</td>\n",
       "    </tr>\n",
       "    <tr>\n",
       "      <th>49</th>\n",
       "      <td>7</td>\n",
       "      <td>105</td>\n",
       "      <td>0</td>\n",
       "      <td>0</td>\n",
       "      <td>0</td>\n",
       "      <td>0.0</td>\n",
       "      <td>0.305</td>\n",
       "      <td>24</td>\n",
       "      <td>0</td>\n",
       "    </tr>\n",
       "    <tr>\n",
       "      <th>371</th>\n",
       "      <td>0</td>\n",
       "      <td>118</td>\n",
       "      <td>64</td>\n",
       "      <td>23</td>\n",
       "      <td>89</td>\n",
       "      <td>0.0</td>\n",
       "      <td>1.731</td>\n",
       "      <td>21</td>\n",
       "      <td>0</td>\n",
       "    </tr>\n",
       "  </tbody>\n",
       "</table>\n",
       "</div>"
      ],
      "text/plain": [
       "     Pregnancies  Glucose  BloodPressure  SkinThickness  Insulin   BMI  \\\n",
       "60             2       84              0              0        0   0.0   \n",
       "684            5      136             82              0        0   0.0   \n",
       "673            3      123            100             35      240  57.3   \n",
       "522            6      114              0              0        0   0.0   \n",
       "426            0       94              0              0        0   0.0   \n",
       "145            0      102             75             23        0   0.0   \n",
       "49             7      105              0              0        0   0.0   \n",
       "371            0      118             64             23       89   0.0   \n",
       "\n",
       "     DiabetesPedigreeFunction  Age  Outcome  \n",
       "60                      0.304   21        0  \n",
       "684                     0.640   69        0  \n",
       "673                     0.880   22        0  \n",
       "522                     0.189   26        0  \n",
       "426                     0.256   25        0  \n",
       "145                     0.572   21        0  \n",
       "49                      0.305   24        0  \n",
       "371                     1.731   21        0  "
      ]
     },
     "execution_count": 15,
     "metadata": {},
     "output_type": "execute_result"
    }
   ],
   "source": [
    "outliers_0"
   ]
  },
  {
   "cell_type": "code",
   "execution_count": 16,
   "id": "d37c4622",
   "metadata": {},
   "outputs": [],
   "source": [
    "outliers_1 = group_1[(group_1['BMI'] > upper_bound_1) | (group_1['BMI'] < lower_bound_1)]"
   ]
  },
  {
   "cell_type": "code",
   "execution_count": 17,
   "id": "5c23bc22",
   "metadata": {},
   "outputs": [
    {
     "data": {
      "text/html": [
       "<div>\n",
       "<style scoped>\n",
       "    .dataframe tbody tr th:only-of-type {\n",
       "        vertical-align: middle;\n",
       "    }\n",
       "\n",
       "    .dataframe tbody tr th {\n",
       "        vertical-align: top;\n",
       "    }\n",
       "\n",
       "    .dataframe thead th {\n",
       "        text-align: right;\n",
       "    }\n",
       "</style>\n",
       "<table border=\"1\" class=\"dataframe\">\n",
       "  <thead>\n",
       "    <tr style=\"text-align: right;\">\n",
       "      <th></th>\n",
       "      <th>Pregnancies</th>\n",
       "      <th>Glucose</th>\n",
       "      <th>BloodPressure</th>\n",
       "      <th>SkinThickness</th>\n",
       "      <th>Insulin</th>\n",
       "      <th>BMI</th>\n",
       "      <th>DiabetesPedigreeFunction</th>\n",
       "      <th>Age</th>\n",
       "      <th>Outcome</th>\n",
       "    </tr>\n",
       "  </thead>\n",
       "  <tbody>\n",
       "    <tr>\n",
       "      <th>9</th>\n",
       "      <td>8</td>\n",
       "      <td>125</td>\n",
       "      <td>96</td>\n",
       "      <td>0</td>\n",
       "      <td>0</td>\n",
       "      <td>0.0</td>\n",
       "      <td>0.232</td>\n",
       "      <td>54</td>\n",
       "      <td>1</td>\n",
       "    </tr>\n",
       "    <tr>\n",
       "      <th>706</th>\n",
       "      <td>10</td>\n",
       "      <td>115</td>\n",
       "      <td>0</td>\n",
       "      <td>0</td>\n",
       "      <td>0</td>\n",
       "      <td>0.0</td>\n",
       "      <td>0.261</td>\n",
       "      <td>30</td>\n",
       "      <td>1</td>\n",
       "    </tr>\n",
       "    <tr>\n",
       "      <th>120</th>\n",
       "      <td>0</td>\n",
       "      <td>162</td>\n",
       "      <td>76</td>\n",
       "      <td>56</td>\n",
       "      <td>100</td>\n",
       "      <td>53.2</td>\n",
       "      <td>0.759</td>\n",
       "      <td>25</td>\n",
       "      <td>1</td>\n",
       "    </tr>\n",
       "    <tr>\n",
       "      <th>125</th>\n",
       "      <td>1</td>\n",
       "      <td>88</td>\n",
       "      <td>30</td>\n",
       "      <td>42</td>\n",
       "      <td>99</td>\n",
       "      <td>55.0</td>\n",
       "      <td>0.496</td>\n",
       "      <td>26</td>\n",
       "      <td>1</td>\n",
       "    </tr>\n",
       "    <tr>\n",
       "      <th>303</th>\n",
       "      <td>5</td>\n",
       "      <td>115</td>\n",
       "      <td>98</td>\n",
       "      <td>0</td>\n",
       "      <td>0</td>\n",
       "      <td>52.9</td>\n",
       "      <td>0.209</td>\n",
       "      <td>28</td>\n",
       "      <td>1</td>\n",
       "    </tr>\n",
       "    <tr>\n",
       "      <th>177</th>\n",
       "      <td>0</td>\n",
       "      <td>129</td>\n",
       "      <td>110</td>\n",
       "      <td>46</td>\n",
       "      <td>130</td>\n",
       "      <td>67.1</td>\n",
       "      <td>0.319</td>\n",
       "      <td>26</td>\n",
       "      <td>1</td>\n",
       "    </tr>\n",
       "    <tr>\n",
       "      <th>193</th>\n",
       "      <td>11</td>\n",
       "      <td>135</td>\n",
       "      <td>0</td>\n",
       "      <td>0</td>\n",
       "      <td>0</td>\n",
       "      <td>52.3</td>\n",
       "      <td>0.578</td>\n",
       "      <td>40</td>\n",
       "      <td>1</td>\n",
       "    </tr>\n",
       "  </tbody>\n",
       "</table>\n",
       "</div>"
      ],
      "text/plain": [
       "     Pregnancies  Glucose  BloodPressure  SkinThickness  Insulin   BMI  \\\n",
       "9              8      125             96              0        0   0.0   \n",
       "706           10      115              0              0        0   0.0   \n",
       "120            0      162             76             56      100  53.2   \n",
       "125            1       88             30             42       99  55.0   \n",
       "303            5      115             98              0        0  52.9   \n",
       "177            0      129            110             46      130  67.1   \n",
       "193           11      135              0              0        0  52.3   \n",
       "\n",
       "     DiabetesPedigreeFunction  Age  Outcome  \n",
       "9                       0.232   54        1  \n",
       "706                     0.261   30        1  \n",
       "120                     0.759   25        1  \n",
       "125                     0.496   26        1  \n",
       "303                     0.209   28        1  \n",
       "177                     0.319   26        1  \n",
       "193                     0.578   40        1  "
      ]
     },
     "execution_count": 17,
     "metadata": {},
     "output_type": "execute_result"
    }
   ],
   "source": [
    "outliers_1"
   ]
  },
  {
   "cell_type": "markdown",
   "id": "555ab762",
   "metadata": {},
   "source": [
    "#### Chiến lược xử lý ngoại lai:"
   ]
  },
  {
   "cell_type": "markdown",
   "id": "71910948",
   "metadata": {},
   "source": [
    "Thay thế tất cả giá trị ngoại lai bằng giá trị biên"
   ]
  },
  {
   "cell_type": "code",
   "execution_count": 18,
   "id": "2093bbd0",
   "metadata": {},
   "outputs": [],
   "source": [
    "def handle_outlier(diabetes_dataset: pd.DataFrame) -> pd.DataFrame:\n",
    "    data_after_process_outliers = diabetes_dataset.copy()\n",
    "\n",
    "    # Lấy tất cả các cột để xử lý ngoại lai\n",
    "    columns = [col for col in diabetes_dataset.columns if col != 'Outcome']\n",
    "\n",
    "    # Chia nhãn để xử lý ngoại lai\n",
    "    group_0 = data_after_process_outliers[data_after_process_outliers['Outcome'] == 0].copy()\n",
    "    group_1 = data_after_process_outliers[data_after_process_outliers['Outcome'] == 1].copy()\n",
    "\n",
    "    # Xử lý ngoại lai trên từng cột\n",
    "    for column in columns:\n",
    "        # Xử lý ngoại lai trên nhãn Outcome = 0\n",
    "        # Tính Q1, Q3 và IQR\n",
    "        Q1_0 = group_0[column].quantile(0.25)\n",
    "        Q3_0 = group_0[column].quantile(0.75)\n",
    "        IQR_0 = Q3_0 - Q1_0\n",
    "\n",
    "        # Tính các giá trị biên\n",
    "        upper_bound_0 = Q3_0 + 1.5*IQR_0\n",
    "        lower_bound_0 = max(Q1_0 - 1.5*IQR_0, 0)\n",
    "\n",
    "        # Thay thế các giá trị ngoại lai bằng giá trị biên\n",
    "        group_0[column] = np.where(\n",
    "            group_0[column] < lower_bound_0, lower_bound_0,\n",
    "            np.where(group_0[column] > upper_bound_0, upper_bound_0,\n",
    "            group_0[column])\n",
    "        )\n",
    "        # np.where(condition, value_if_True, value_if_False)\n",
    "\n",
    "        # Xử lý ngoại lai trên nhãn Outcome = 1\n",
    "        # Tính Q1, Q3 và IQR\n",
    "        Q1_1 = group_1[column].quantile(0.25)\n",
    "        Q3_1 = group_1[column].quantile(0.75)\n",
    "        IQR_1 = Q3_1 - Q1_1\n",
    "\n",
    "        # Tính các giá trị biên\n",
    "        upper_bound_1 = Q3_1 + 1.5*IQR_1\n",
    "        lower_bound_1 = max(Q1_1 - 1.5*IQR_1, 0)\n",
    "\n",
    "        # Thay thế các giá trị ngoại lai bằng giá trị biên\n",
    "        group_1[column] = np.where(\n",
    "            group_1[column] < lower_bound_1, lower_bound_1,\n",
    "            np.where(group_1[column] > upper_bound_1, upper_bound_1,\n",
    "            group_1[column])\n",
    "        )\n",
    "        # np.where(condition, value_if_True, value_if_False)\n",
    "    \n",
    "    # Gộp lại dữ liệu\n",
    "    data_after_process_outliers = pd.concat([group_0, group_1])\n",
    "    \n",
    "    return data_after_process_outliers"
   ]
  },
  {
   "cell_type": "code",
   "execution_count": 19,
   "id": "d42dd074",
   "metadata": {},
   "outputs": [],
   "source": [
    "train_data_bar = handle_outlier(train_data)"
   ]
  },
  {
   "cell_type": "markdown",
   "id": "c2e56d7d",
   "metadata": {},
   "source": [
    "#### Double check"
   ]
  },
  {
   "cell_type": "code",
   "execution_count": 20,
   "id": "5c96725b",
   "metadata": {},
   "outputs": [
    {
     "data": {
      "text/plain": [
       "Pregnancies                   3.00\n",
       "Glucose                     123.00\n",
       "BloodPressure               100.00\n",
       "SkinThickness                35.00\n",
       "Insulin                     240.00\n",
       "BMI                          57.30\n",
       "DiabetesPedigreeFunction      0.88\n",
       "Age                          22.00\n",
       "Outcome                       0.00\n",
       "Name: 673, dtype: float64"
      ]
     },
     "execution_count": 20,
     "metadata": {},
     "output_type": "execute_result"
    }
   ],
   "source": [
    "train_data.loc[673]"
   ]
  },
  {
   "cell_type": "code",
   "execution_count": 21,
   "id": "3f651a8c",
   "metadata": {},
   "outputs": [
    {
     "data": {
      "text/plain": [
       "Pregnancies                   3.00\n",
       "Glucose                     123.00\n",
       "BloodPressure               100.00\n",
       "SkinThickness                35.00\n",
       "Insulin                     240.00\n",
       "BMI                          49.10\n",
       "DiabetesPedigreeFunction      0.88\n",
       "Age                          22.00\n",
       "Outcome                       0.00\n",
       "Name: 673, dtype: float64"
      ]
     },
     "execution_count": 21,
     "metadata": {},
     "output_type": "execute_result"
    }
   ],
   "source": [
    "train_data_bar.loc[673]"
   ]
  },
  {
   "cell_type": "code",
   "execution_count": 22,
   "id": "4b066cfe",
   "metadata": {},
   "outputs": [
    {
     "data": {
      "image/png": "[encoded data removed]",
      "text/plain": [
       "<Figure size 640x480 with 1 Axes>"
      ]
     },
     "metadata": {},
     "output_type": "display_data"
    }
   ],
   "source": [
    "sns.boxplot(x='Outcome', y='Glucose', data=train_data)\n",
    "plt.title('Boxplot của Glucose theo Nhãn Tiểu đường')\n",
    "plt.xlabel('Outcome (0: Không tiểu đường, 1: Có tiểu đường)')\n",
    "plt.ylabel('Glucose')\n",
    "plt.show()"
   ]
  },
  {
   "cell_type": "code",
   "execution_count": 23,
   "id": "8c0893fc",
   "metadata": {},
   "outputs": [
    {
     "data": {
      "image/png": "[encoded data removed]",
      "text/plain": [
       "<Figure size 640x480 with 1 Axes>"
      ]
     },
     "metadata": {},
     "output_type": "display_data"
    }
   ],
   "source": [
    "sns.boxplot(x='Outcome', y='Glucose', data=train_data_bar)\n",
    "plt.title('Boxplot của Glucose theo Nhãn Tiểu đường sau khi xử lý ngoại lai')\n",
    "plt.xlabel('Outcome (0: Không tiểu đường, 1: Có tiểu đường)')\n",
    "plt.ylabel('Glucose')\n",
    "plt.show()"
   ]
  },
  {
   "cell_type": "code",
   "execution_count": 24,
   "id": "618d1658",
   "metadata": {},
   "outputs": [],
   "source": [
    "train_data = train_data_bar.copy()\n",
    "train_data = train_data.sort_index(ascending= True)"
   ]
  },
  {
   "cell_type": "code",
   "execution_count": 25,
   "id": "34f14850",
   "metadata": {},
   "outputs": [],
   "source": [
    "X_train = train_data.drop('Outcome', axis= 1)\n",
    "y_train = train_data['Outcome']"
   ]
  },
  {
   "cell_type": "markdown",
   "id": "ed22cdfe",
   "metadata": {},
   "source": [
    "## Chuẩn hóa dữ liệu"
   ]
  },
  {
   "cell_type": "markdown",
   "id": "2d6ee8c9",
   "metadata": {},
   "source": [
    "normalization: min-max scaling \n",
    "\n",
    "standardization: z-score normalization (phân phối chuẩn)"
   ]
  },
  {
   "cell_type": "code",
   "execution_count": 26,
   "id": "0d9172a8",
   "metadata": {},
   "outputs": [
    {
     "data": {
      "text/html": [
       "<div>\n",
       "<style scoped>\n",
       "    .dataframe tbody tr th:only-of-type {\n",
       "        vertical-align: middle;\n",
       "    }\n",
       "\n",
       "    .dataframe tbody tr th {\n",
       "        vertical-align: top;\n",
       "    }\n",
       "\n",
       "    .dataframe thead th {\n",
       "        text-align: right;\n",
       "    }\n",
       "</style>\n",
       "<table border=\"1\" class=\"dataframe\">\n",
       "  <thead>\n",
       "    <tr style=\"text-align: right;\">\n",
       "      <th></th>\n",
       "      <th>Pregnancies</th>\n",
       "      <th>Glucose</th>\n",
       "      <th>BloodPressure</th>\n",
       "      <th>SkinThickness</th>\n",
       "      <th>Insulin</th>\n",
       "      <th>BMI</th>\n",
       "      <th>DiabetesPedigreeFunction</th>\n",
       "      <th>Age</th>\n",
       "    </tr>\n",
       "  </thead>\n",
       "  <tbody>\n",
       "    <tr>\n",
       "      <th>0</th>\n",
       "      <td>6.0</td>\n",
       "      <td>148.0</td>\n",
       "      <td>72.0</td>\n",
       "      <td>35.0</td>\n",
       "      <td>0.0</td>\n",
       "      <td>33.6</td>\n",
       "      <td>0.627000</td>\n",
       "      <td>50.0</td>\n",
       "    </tr>\n",
       "    <tr>\n",
       "      <th>1</th>\n",
       "      <td>1.0</td>\n",
       "      <td>85.0</td>\n",
       "      <td>66.0</td>\n",
       "      <td>29.0</td>\n",
       "      <td>0.0</td>\n",
       "      <td>26.6</td>\n",
       "      <td>0.351000</td>\n",
       "      <td>31.0</td>\n",
       "    </tr>\n",
       "    <tr>\n",
       "      <th>2</th>\n",
       "      <td>8.0</td>\n",
       "      <td>183.0</td>\n",
       "      <td>64.0</td>\n",
       "      <td>0.0</td>\n",
       "      <td>0.0</td>\n",
       "      <td>23.3</td>\n",
       "      <td>0.672000</td>\n",
       "      <td>32.0</td>\n",
       "    </tr>\n",
       "    <tr>\n",
       "      <th>4</th>\n",
       "      <td>0.0</td>\n",
       "      <td>137.0</td>\n",
       "      <td>42.0</td>\n",
       "      <td>35.0</td>\n",
       "      <td>168.0</td>\n",
       "      <td>43.1</td>\n",
       "      <td>1.404875</td>\n",
       "      <td>33.0</td>\n",
       "    </tr>\n",
       "    <tr>\n",
       "      <th>5</th>\n",
       "      <td>5.0</td>\n",
       "      <td>116.0</td>\n",
       "      <td>74.0</td>\n",
       "      <td>0.0</td>\n",
       "      <td>0.0</td>\n",
       "      <td>25.6</td>\n",
       "      <td>0.201000</td>\n",
       "      <td>30.0</td>\n",
       "    </tr>\n",
       "    <tr>\n",
       "      <th>...</th>\n",
       "      <td>...</td>\n",
       "      <td>...</td>\n",
       "      <td>...</td>\n",
       "      <td>...</td>\n",
       "      <td>...</td>\n",
       "      <td>...</td>\n",
       "      <td>...</td>\n",
       "      <td>...</td>\n",
       "    </tr>\n",
       "    <tr>\n",
       "      <th>761</th>\n",
       "      <td>9.0</td>\n",
       "      <td>170.0</td>\n",
       "      <td>74.0</td>\n",
       "      <td>31.0</td>\n",
       "      <td>0.0</td>\n",
       "      <td>44.0</td>\n",
       "      <td>0.403000</td>\n",
       "      <td>43.0</td>\n",
       "    </tr>\n",
       "    <tr>\n",
       "      <th>762</th>\n",
       "      <td>9.0</td>\n",
       "      <td>89.0</td>\n",
       "      <td>62.0</td>\n",
       "      <td>0.0</td>\n",
       "      <td>0.0</td>\n",
       "      <td>22.5</td>\n",
       "      <td>0.142000</td>\n",
       "      <td>33.0</td>\n",
       "    </tr>\n",
       "    <tr>\n",
       "      <th>764</th>\n",
       "      <td>2.0</td>\n",
       "      <td>122.0</td>\n",
       "      <td>70.0</td>\n",
       "      <td>27.0</td>\n",
       "      <td>0.0</td>\n",
       "      <td>36.8</td>\n",
       "      <td>0.340000</td>\n",
       "      <td>27.0</td>\n",
       "    </tr>\n",
       "    <tr>\n",
       "      <th>765</th>\n",
       "      <td>5.0</td>\n",
       "      <td>121.0</td>\n",
       "      <td>72.0</td>\n",
       "      <td>23.0</td>\n",
       "      <td>112.0</td>\n",
       "      <td>26.2</td>\n",
       "      <td>0.245000</td>\n",
       "      <td>30.0</td>\n",
       "    </tr>\n",
       "    <tr>\n",
       "      <th>766</th>\n",
       "      <td>1.0</td>\n",
       "      <td>126.0</td>\n",
       "      <td>60.0</td>\n",
       "      <td>0.0</td>\n",
       "      <td>0.0</td>\n",
       "      <td>30.1</td>\n",
       "      <td>0.349000</td>\n",
       "      <td>47.0</td>\n",
       "    </tr>\n",
       "  </tbody>\n",
       "</table>\n",
       "<p>614 rows × 8 columns</p>\n",
       "</div>"
      ],
      "text/plain": [
       "     Pregnancies  Glucose  BloodPressure  SkinThickness  Insulin   BMI  \\\n",
       "0            6.0    148.0           72.0           35.0      0.0  33.6   \n",
       "1            1.0     85.0           66.0           29.0      0.0  26.6   \n",
       "2            8.0    183.0           64.0            0.0      0.0  23.3   \n",
       "4            0.0    137.0           42.0           35.0    168.0  43.1   \n",
       "5            5.0    116.0           74.0            0.0      0.0  25.6   \n",
       "..           ...      ...            ...            ...      ...   ...   \n",
       "761          9.0    170.0           74.0           31.0      0.0  44.0   \n",
       "762          9.0     89.0           62.0            0.0      0.0  22.5   \n",
       "764          2.0    122.0           70.0           27.0      0.0  36.8   \n",
       "765          5.0    121.0           72.0           23.0    112.0  26.2   \n",
       "766          1.0    126.0           60.0            0.0      0.0  30.1   \n",
       "\n",
       "     DiabetesPedigreeFunction   Age  \n",
       "0                    0.627000  50.0  \n",
       "1                    0.351000  31.0  \n",
       "2                    0.672000  32.0  \n",
       "4                    1.404875  33.0  \n",
       "5                    0.201000  30.0  \n",
       "..                        ...   ...  \n",
       "761                  0.403000  43.0  \n",
       "762                  0.142000  33.0  \n",
       "764                  0.340000  27.0  \n",
       "765                  0.245000  30.0  \n",
       "766                  0.349000  47.0  \n",
       "\n",
       "[614 rows x 8 columns]"
      ]
     },
     "execution_count": 26,
     "metadata": {},
     "output_type": "execute_result"
    }
   ],
   "source": [
    "X_train"
   ]
  },
  {
   "cell_type": "code",
   "execution_count": 27,
   "id": "e36687ba",
   "metadata": {},
   "outputs": [],
   "source": [
    "scaler = StandardScaler()\n",
    "X_train = scaler.fit_transform(X_train)\n",
    "X_test = scaler.transform(X_test)"
   ]
  },
  {
   "cell_type": "code",
   "execution_count": 28,
   "id": "50be00f4",
   "metadata": {},
   "outputs": [
    {
     "data": {
      "text/plain": [
       "array([[ 0.67288074,  0.88743371,  0.0853899 , ...,  0.21122495,\n",
       "         0.55766046,  1.49650483],\n",
       "       [-0.8572999 , -1.18856707, -0.35877021, ..., -0.78176911,\n",
       "        -0.39555302, -0.19091199],\n",
       "       [ 1.28495299,  2.04076748, -0.50682358, ..., -1.24989489,\n",
       "         0.7130757 , -0.10210058],\n",
       "       ...,\n",
       "       [-0.55126377,  0.03067149, -0.06266347, ...,  0.66516509,\n",
       "        -0.43354342, -0.54615764],\n",
       "       [ 0.36684461, -0.00228091,  0.0853899 , ..., -0.83851163,\n",
       "        -0.76164226, -0.2797234 ],\n",
       "       [-0.8572999 ,  0.16248106, -0.80293033, ..., -0.28527208,\n",
       "        -0.40246037,  1.2300706 ]], shape=(614, 8))"
      ]
     },
     "execution_count": 28,
     "metadata": {},
     "output_type": "execute_result"
    }
   ],
   "source": [
    "X_train"
   ]
  },
  {
   "cell_type": "code",
   "execution_count": 29,
   "id": "04dfad41",
   "metadata": {},
   "outputs": [
    {
     "data": {
      "text/plain": [
       "array([[ 0.97891686,  1.24991004, -0.50682358, ..., -0.66828408,\n",
       "        -0.59241233,  0.60839072],\n",
       "       [ 1.89702524, -1.74875775,  2.60229722, ...,  0.48075191,\n",
       "        -0.62349538,  1.2300706 ],\n",
       "       [-0.55126377,  0.03067149,  0.38149665, ...,  0.53749442,\n",
       "         0.06033169, -0.63496905],\n",
       "       ...,\n",
       "       [-0.55126377, -1.28742425, -1.39514381, ..., -0.51224215,\n",
       "         4.25999689, -0.72378046],\n",
       "       [ 0.06080848,  2.07371987,  0.52955002, ...,  0.69353635,\n",
       "        -0.69602249, -0.19091199],\n",
       "       [-0.8572999 , -1.64990057,  0.52955002, ...,  0.15448243,\n",
       "        -0.15034231, -1.07902611]], shape=(154, 8))"
      ]
     },
     "execution_count": 29,
     "metadata": {},
     "output_type": "execute_result"
    }
   ],
   "source": [
    "X_test"
   ]
  },
  {
   "cell_type": "markdown",
   "id": "3ac9a187",
   "metadata": {},
   "source": [
    "## Kiểm tra cân bằng dữ liệu"
   ]
  },
  {
   "cell_type": "markdown",
   "id": "c5cc7a03",
   "metadata": {},
   "source": [
    "Các phương pháp xử lý imblanced data:\n",
    "* Đổi metrics\n",
    "* Undersampling\n",
    "  * Random Undersampling: Lấy ngẫu nhiên số lượng sample thuộc lớp đa số bằng với tổng số lượng sample thuộc lớp thiểu số\n",
    "    * Nhược điểm: có thể bỏ qua các sample quan trọng\n",
    "  * NearMiss: Bỏ đi các sample ở lớp đa số mà nằm cách xa lớp thiểu số\n",
    "* Oversampling\n",
    "  * Random Oversampling: Chọn ngẫu nhiên và nhân bản các sample thuộc lớp thiểu số\n",
    "    * Nhược điểm: Phá vỡ phân phối dữ liệu thuộc lớp thiểu số => Overfitting\n",
    "  * Cluster-Base Oversampling: Phân cụm class thiểu số, nhân bản sao cho các cụm cân bằng nhau\n",
    "  * SMOTE: Nội suy để sinh ra thêm dữ liệu thuộc lớp thiểu số \n",
    "    * Nhược điểm: Có khả năng overlap hai class, không hiệu quả khi dữ liệu nhiều chiều\n"
   ]
  },
  {
   "cell_type": "code",
   "execution_count": 30,
   "id": "df1486c1",
   "metadata": {},
   "outputs": [
    {
     "data": {
      "image/png": "[encoded data removed]",
      "text/plain": [
       "<Figure size 640x480 with 1 Axes>"
      ]
     },
     "metadata": {},
     "output_type": "display_data"
    }
   ],
   "source": [
    "sns.countplot(x='Outcome', data=train_data)\n",
    "plt.title('Phân bố lớp Outcome (0: Không bị tiểu đường, 1: Bị tiểu đường)')\n",
    "plt.xlabel('Outcome')\n",
    "plt.ylabel('Số lượng mẫu')\n",
    "plt.show()"
   ]
  },
  {
   "cell_type": "code",
   "execution_count": 31,
   "id": "bcfb7efa",
   "metadata": {},
   "outputs": [
    {
     "data": {
      "image/png": "[encoded data removed]",
      "text/plain": [
       "<Figure size 640x480 with 1 Axes>"
      ]
     },
     "metadata": {},
     "output_type": "display_data"
    }
   ],
   "source": [
    "outcome_counts = train_data['Outcome'].value_counts()\n",
    "\n",
    "# Vẽ biểu đồ tròn\n",
    "plt.pie(outcome_counts, labels=['Không bị tiểu đường (0)', 'Bị bệnh tiểu đường (1)'], autopct='%1.1f%%', startangle=90)\n",
    "plt.title('Tỷ lệ các lớp trong cột Outcome')\n",
    "plt.axis('equal')  # Đảm bảo biểu đồ tròn\n",
    "plt.show()"
   ]
  },
  {
   "cell_type": "markdown",
   "id": "83a4bf3e",
   "metadata": {},
   "source": [
    "### Cân bằng dữ liệu sử dụng SMOTE"
   ]
  },
  {
   "cell_type": "code",
   "execution_count": 32,
   "id": "af7ad67e",
   "metadata": {},
   "outputs": [],
   "source": [
    "from imblearn.over_sampling import SMOTE"
   ]
  },
  {
   "cell_type": "code",
   "execution_count": 33,
   "id": "d6c5a547",
   "metadata": {},
   "outputs": [
    {
     "data": {
      "text/plain": [
       "((800, 8), (800,))"
      ]
     },
     "execution_count": 33,
     "metadata": {},
     "output_type": "execute_result"
    }
   ],
   "source": [
    "sm = SMOTE(random_state= 42)\n",
    "X_sm, y_sm = sm.fit_resample(X_train, y_train)\n",
    "X_sm.shape, y_sm.shape"
   ]
  },
  {
   "cell_type": "code",
   "execution_count": 34,
   "id": "eab8e803",
   "metadata": {},
   "outputs": [
    {
     "data": {
      "image/png": "[encoded data removed]",
      "text/plain": [
       "<Figure size 1200x500 with 2 Axes>"
      ]
     },
     "metadata": {},
     "output_type": "display_data"
    }
   ],
   "source": [
    "y_series = pd.Series(y_train, name='Outcome')\n",
    "y_sm_series = pd.Series(y_sm, name='Outcome')\n",
    "fig, axes = plt.subplots(1, 2, figsize=(12, 5), sharey=False)\n",
    "\n",
    "sns.countplot(x=y_series, ax=axes[0])\n",
    "axes[0].set_title('Phân bố lớp Outcome trước SMOTE')\n",
    "axes[0].set_xlabel('Outcome (0: Không bị, 1: Bị)')\n",
    "axes[0].set_ylabel('Số lượng mẫu')\n",
    "\n",
    "sns.countplot(x=y_sm_series, ax=axes[1])\n",
    "axes[1].set_title('Phân bố lớp Outcome sau SMOTE')\n",
    "axes[1].set_xlabel('Outcome (0: Không bị, 1: Bị)')\n",
    "axes[1].set_ylabel('Số lượng mẫu')\n",
    "\n",
    "\n",
    "plt.show()"
   ]
  },
  {
   "cell_type": "code",
   "execution_count": 35,
   "id": "3fd4be41",
   "metadata": {},
   "outputs": [],
   "source": [
    "from sklearn.linear_model import LogisticRegression\n",
    "from sklearn.metrics import accuracy_score, precision_score, recall_score, f1_score, classification_report"
   ]
  },
  {
   "cell_type": "code",
   "execution_count": 36,
   "id": "9e7a234d",
   "metadata": {},
   "outputs": [],
   "source": [
    "def print_scores(y_true, y_pred):\n",
    "  print(classification_report(y_true, y_pred))"
   ]
  },
  {
   "cell_type": "code",
   "execution_count": 37,
   "id": "ae92e7eb",
   "metadata": {},
   "outputs": [
    {
     "name": "stdout",
     "output_type": "stream",
     "text": [
      "              precision    recall  f1-score   support\n",
      "\n",
      "           0       0.77      0.83      0.80       100\n",
      "           1       0.63      0.54      0.58        54\n",
      "\n",
      "    accuracy                           0.73       154\n",
      "   macro avg       0.70      0.68      0.69       154\n",
      "weighted avg       0.72      0.73      0.72       154\n",
      "\n"
     ]
    }
   ],
   "source": [
    "model = LogisticRegression()\n",
    "model.fit(X_train, y_train)\n",
    "y_pred = model.predict(X_test)\n",
    "\n",
    "print_scores(y_test, y_pred)"
   ]
  },
  {
   "cell_type": "code",
   "execution_count": 38,
   "id": "b4bc6d88",
   "metadata": {},
   "outputs": [
    {
     "name": "stdout",
     "output_type": "stream",
     "text": [
      "              precision    recall  f1-score   support\n",
      "\n",
      "           0       0.85      0.74      0.79       100\n",
      "           1       0.61      0.76      0.68        54\n",
      "\n",
      "    accuracy                           0.75       154\n",
      "   macro avg       0.73      0.75      0.73       154\n",
      "weighted avg       0.77      0.75      0.75       154\n",
      "\n"
     ]
    }
   ],
   "source": [
    "model = LogisticRegression()\n",
    "model.fit(X_sm, y_sm)\n",
    "y_pred = model.predict(X_test)\n",
    "\n",
    "print_scores(y_test, y_pred)"
   ]
  },
  {
   "cell_type": "markdown",
   "id": "cc206822",
   "metadata": {},
   "source": [
    "### Cân bằng dữ liệu sử dụng SMOTE-ENN"
   ]
  },
  {
   "cell_type": "code",
   "execution_count": 39,
   "id": "1a0a693f",
   "metadata": {},
   "outputs": [],
   "source": [
    "from imblearn.combine import SMOTEENN"
   ]
  },
  {
   "cell_type": "code",
   "execution_count": 40,
   "id": "b8d64579",
   "metadata": {},
   "outputs": [
    {
     "data": {
      "text/plain": [
       "((614, 8), (614,))"
      ]
     },
     "execution_count": 40,
     "metadata": {},
     "output_type": "execute_result"
    }
   ],
   "source": [
    "X_train.shape, y_train.shape"
   ]
  },
  {
   "cell_type": "code",
   "execution_count": 41,
   "id": "2bf2bd02",
   "metadata": {},
   "outputs": [
    {
     "data": {
      "text/plain": [
       "((460, 8), (460,))"
      ]
     },
     "execution_count": 41,
     "metadata": {},
     "output_type": "execute_result"
    }
   ],
   "source": [
    "sme = SMOTEENN(random_state= 42)\n",
    "X_sme, y_sme = sme.fit_resample(X_train, y_train)\n",
    "X_sme.shape, y_sme.shape"
   ]
  },
  {
   "cell_type": "code",
   "execution_count": 42,
   "id": "36286a63",
   "metadata": {},
   "outputs": [
    {
     "data": {
      "image/png": "[encoded data removed]",
      "text/plain": [
       "<Figure size 1200x500 with 2 Axes>"
      ]
     },
     "metadata": {},
     "output_type": "display_data"
    }
   ],
   "source": [
    "y_series = pd.Series(y, name='Outcome')\n",
    "y_sme_series = pd.Series(y_sme, name='Outcome')\n",
    "fig, axes = plt.subplots(1, 2, figsize=(12, 5), sharey=True)\n",
    "\n",
    "sns.countplot(x=y_series, ax=axes[0])\n",
    "axes[0].set_title('Phân bố lớp Outcome trước SMOTE')\n",
    "axes[0].set_xlabel('Outcome (0: Không bị, 1: Bị)')\n",
    "axes[0].set_ylabel('Số lượng mẫu')\n",
    "\n",
    "sns.countplot(x=y_sme_series, ax=axes[1])\n",
    "axes[1].set_title('Phân bố lớp Outcome sau SMOTE-ENN')\n",
    "axes[1].set_xlabel('Outcome (0: Không bị, 1: Bị)')\n",
    "axes[1].set_ylabel('Số lượng mẫu')\n",
    "\n",
    "plt.tight_layout()\n",
    "plt.show()"
   ]
  },
  {
   "cell_type": "code",
   "execution_count": 43,
   "id": "c413888a",
   "metadata": {},
   "outputs": [],
   "source": [
    "from sklearn.linear_model import LogisticRegression\n",
    "from sklearn.metrics import accuracy_score, precision_score, recall_score, f1_score, classification_report"
   ]
  },
  {
   "cell_type": "code",
   "execution_count": 44,
   "id": "98749e20",
   "metadata": {},
   "outputs": [],
   "source": [
    "def print_scores(y_true, y_pred):\n",
    "  print(classification_report(y_true, y_pred))\n"
   ]
  },
  {
   "cell_type": "code",
   "execution_count": 45,
   "id": "93a3c5c7",
   "metadata": {},
   "outputs": [
    {
     "name": "stdout",
     "output_type": "stream",
     "text": [
      "              precision    recall  f1-score   support\n",
      "\n",
      "           0       0.86      0.70      0.77       100\n",
      "           1       0.59      0.80      0.68        54\n",
      "\n",
      "    accuracy                           0.73       154\n",
      "   macro avg       0.73      0.75      0.73       154\n",
      "weighted avg       0.77      0.73      0.74       154\n",
      "\n"
     ]
    }
   ],
   "source": [
    "model = LogisticRegression()\n",
    "model.fit(X_sme, y_sme)\n",
    "y_pred = model.predict(X_test)\n",
    "\n",
    "print_scores(y_test, y_pred)"
   ]
  },
  {
   "cell_type": "markdown",
   "id": "1db3e085",
   "metadata": {},
   "source": [
    "# Huấn luyện mô hình"
   ]
  },
  {
   "cell_type": "code",
   "execution_count": 46,
   "id": "a814185b",
   "metadata": {},
   "outputs": [],
   "source": [
    "from sklearn.model_selection import GridSearchCV, RandomizedSearchCV\n",
    "from sklearn.metrics import accuracy_score, precision_score, recall_score, f1_score, classification_report, make_scorer"
   ]
  },
  {
   "cell_type": "markdown",
   "id": "bbcd8c85",
   "metadata": {},
   "source": [
    "## KNN"
   ]
  },
  {
   "cell_type": "code",
   "execution_count": 47,
   "id": "cf6eb5c7",
   "metadata": {},
   "outputs": [],
   "source": [
    "from sklearn.neighbors import KNeighborsClassifier"
   ]
  },
  {
   "cell_type": "markdown",
   "id": "f537e4fb",
   "metadata": {},
   "source": [
    "### Thử với dữ liệu gốc"
   ]
  },
  {
   "cell_type": "code",
   "execution_count": 48,
   "id": "4153fd78",
   "metadata": {},
   "outputs": [
    {
     "name": "stdout",
     "output_type": "stream",
     "text": [
      "Best param:  {'metric': 'manhattan', 'n_neighbors': 9, 'weights': 'distance'}\n",
      "              precision    recall  f1-score   support\n",
      "\n",
      "           0       0.76      0.86      0.81       100\n",
      "           1       0.66      0.50      0.57        54\n",
      "\n",
      "    accuracy                           0.73       154\n",
      "   macro avg       0.71      0.68      0.69       154\n",
      "weighted avg       0.73      0.73      0.72       154\n",
      "\n"
     ]
    }
   ],
   "source": [
    "param_grid = {\n",
    "    'n_neighbors': [3, 5, 7, 9, 11],\n",
    "    'weights': ['uniform', 'distance'],\n",
    "    'metric': ['euclidean', 'manhattan', 'minkowski']\n",
    "}\n",
    "\n",
    "grid_search = GridSearchCV(estimator= KNeighborsClassifier(),\n",
    "                           param_grid= param_grid,\n",
    "                            scoring= make_scorer(f1_score, average = 'weighted'),\n",
    "                            cv= 10)\n",
    "grid_search.fit(X_train, y_train)\n",
    "\n",
    "print(\"Best param: \", grid_search.best_params_)\n",
    "\n",
    "knn_model = grid_search.best_estimator_\n",
    "\n",
    "y_pred = knn_model.predict(X_test)\n",
    "print_scores(y_test, y_pred)"
   ]
  },
  {
   "cell_type": "markdown",
   "id": "f2076891",
   "metadata": {},
   "source": [
    "### Thử với SMOTE"
   ]
  },
  {
   "cell_type": "code",
   "execution_count": 49,
   "id": "a77c7f2c",
   "metadata": {},
   "outputs": [
    {
     "name": "stdout",
     "output_type": "stream",
     "text": [
      "Best param:  {'metric': 'manhattan', 'n_neighbors': 7, 'weights': 'distance'}\n",
      "Best cross validation score:  0.8227734343240846\n"
     ]
    }
   ],
   "source": [
    "# Thiết lập danh sách tham số cần tối ưu\n",
    "param_grid = {\n",
    "    'n_neighbors': [3, 5, 7, 9, 11],\n",
    "    'weights': ['uniform', 'distance'],\n",
    "    'metric': ['euclidean', 'manhattan', 'minkowski']\n",
    "}\n",
    "\n",
    "grid_search = GridSearchCV(KNeighborsClassifier(), param_grid, cv=10, scoring=make_scorer(f1_score, average = 'weighted'))\n",
    "grid_search.fit(X_sm, y_sm)\n",
    "\n",
    "print(\"Best param: \", grid_search.best_params_)\n",
    "print(\"Best cross validation score: \", grid_search.best_score_)"
   ]
  },
  {
   "cell_type": "code",
   "execution_count": 50,
   "id": "70c74a25",
   "metadata": {},
   "outputs": [
    {
     "name": "stdout",
     "output_type": "stream",
     "text": [
      "              precision    recall  f1-score   support\n",
      "\n",
      "           0       0.82      0.67      0.74       100\n",
      "           1       0.54      0.72      0.62        54\n",
      "\n",
      "    accuracy                           0.69       154\n",
      "   macro avg       0.68      0.70      0.68       154\n",
      "weighted avg       0.72      0.69      0.70       154\n",
      "\n"
     ]
    }
   ],
   "source": [
    "knn_model = grid_search.best_estimator_\n",
    "y_pred = knn_model.predict(X_test)\n",
    "print_scores(y_test, y_pred)"
   ]
  },
  {
   "cell_type": "markdown",
   "id": "9ffbd544",
   "metadata": {},
   "source": [
    "### Thử với SMOTE-ENN"
   ]
  },
  {
   "cell_type": "code",
   "execution_count": 51,
   "id": "aa9d94da",
   "metadata": {},
   "outputs": [
    {
     "name": "stdout",
     "output_type": "stream",
     "text": [
      "Best param:  {'metric': 'manhattan', 'n_neighbors': 3, 'weights': 'uniform'}\n",
      "              precision    recall  f1-score   support\n",
      "\n",
      "           0       0.85      0.70      0.77       100\n",
      "           1       0.58      0.78      0.67        54\n",
      "\n",
      "    accuracy                           0.73       154\n",
      "   macro avg       0.72      0.74      0.72       154\n",
      "weighted avg       0.76      0.73      0.73       154\n",
      "\n"
     ]
    }
   ],
   "source": [
    "param_grid = {\n",
    "    'n_neighbors': [3, 5, 7, 11],\n",
    "    'weights': ['uniform', 'distance'],\n",
    "    'metric': ['euclidean', 'manhattan', 'minkowski']\n",
    "}\n",
    "\n",
    "grid_search = GridSearchCV(estimator= KNeighborsClassifier(),\n",
    "                           param_grid= param_grid,\n",
    "                            scoring= make_scorer(f1_score, average = 'weighted'),\n",
    "                            cv= 10)\n",
    "grid_search.fit(X_sme, y_sme)\n",
    "\n",
    "print(\"Best param: \", grid_search.best_params_)\n",
    "\n",
    "knn_model = grid_search.best_estimator_\n",
    "\n",
    "y_pred = knn_model.predict(X_test)\n",
    "print_scores(y_test, y_pred)"
   ]
  },
  {
   "cell_type": "markdown",
   "id": "d123877d",
   "metadata": {},
   "source": [
    "## Decision Tree"
   ]
  },
  {
   "cell_type": "code",
   "execution_count": 52,
   "id": "1b9a9ff5",
   "metadata": {},
   "outputs": [],
   "source": [
    "from sklearn.tree import DecisionTreeClassifier\n",
    "model = DecisionTreeClassifier()"
   ]
  },
  {
   "cell_type": "code",
   "execution_count": 53,
   "id": "985baf4a",
   "metadata": {},
   "outputs": [],
   "source": [
    "param_grid = {\n",
    "    'criterion': ['gini', 'entropy', 'log_loss'],\n",
    "    'max_depth': [5, 10, 15, 20, 25],\n",
    "    #'max_features': ['auto', 'sqrt', 'log2', None]\n",
    "}"
   ]
  },
  {
   "cell_type": "markdown",
   "id": "6043f4c0",
   "metadata": {},
   "source": [
    "### Thử với dữ liệu ban đầu"
   ]
  },
  {
   "cell_type": "code",
   "execution_count": 54,
   "id": "8854e764",
   "metadata": {},
   "outputs": [
    {
     "name": "stdout",
     "output_type": "stream",
     "text": [
      "Best param:  {'criterion': 'gini', 'max_depth': 5}\n",
      "              precision    recall  f1-score   support\n",
      "\n",
      "           0       0.85      0.82      0.83       100\n",
      "           1       0.68      0.72      0.70        54\n",
      "\n",
      "    accuracy                           0.79       154\n",
      "   macro avg       0.76      0.77      0.77       154\n",
      "weighted avg       0.79      0.79      0.79       154\n",
      "\n"
     ]
    }
   ],
   "source": [
    "grid_search = GridSearchCV(estimator= DecisionTreeClassifier(),\n",
    "                           param_grid= param_grid,\n",
    "                           scoring= make_scorer(f1_score, average= 'weighted'),\n",
    "                           cv= 10)\n",
    "\n",
    "grid_search.fit(X_train, y_train)\n",
    "print(\"Best param: \", grid_search.best_params_)\n",
    "\n",
    "dt_model= grid_search.best_estimator_\n",
    "\n",
    "y_pred= dt_model.predict(X_test)\n",
    "print_scores(y_test, y_pred)"
   ]
  },
  {
   "cell_type": "markdown",
   "id": "d154fb4b",
   "metadata": {},
   "source": [
    "### Thử với SMOTE"
   ]
  },
  {
   "cell_type": "code",
   "execution_count": 55,
   "id": "7a1f8592",
   "metadata": {},
   "outputs": [
    {
     "name": "stdout",
     "output_type": "stream",
     "text": [
      "Best param:  {'criterion': 'gini', 'max_depth': 20}\n",
      "              precision    recall  f1-score   support\n",
      "\n",
      "           0       0.76      0.74      0.75       100\n",
      "           1       0.54      0.56      0.55        54\n",
      "\n",
      "    accuracy                           0.68       154\n",
      "   macro avg       0.65      0.65      0.65       154\n",
      "weighted avg       0.68      0.68      0.68       154\n",
      "\n"
     ]
    }
   ],
   "source": [
    "grid_search = GridSearchCV(estimator= DecisionTreeClassifier(),\n",
    "                           param_grid= param_grid,\n",
    "                           scoring= make_scorer(f1_score, average= 'weighted'),\n",
    "                           cv= 10)\n",
    "\n",
    "grid_search.fit(X_sm, y_sm)\n",
    "print(\"Best param: \", grid_search.best_params_)\n",
    "\n",
    "dt_model= grid_search.best_estimator_\n",
    "\n",
    "y_pred= dt_model.predict(X_test)\n",
    "print_scores(y_test, y_pred)"
   ]
  },
  {
   "cell_type": "markdown",
   "id": "b13ec9c7",
   "metadata": {},
   "source": [
    "### Thử với SMOTE-ENN"
   ]
  },
  {
   "cell_type": "code",
   "execution_count": 56,
   "id": "51a9fba4",
   "metadata": {},
   "outputs": [
    {
     "name": "stdout",
     "output_type": "stream",
     "text": [
      "Best param:  {'criterion': 'gini', 'max_depth': 5}\n",
      "              precision    recall  f1-score   support\n",
      "\n",
      "           0       0.87      0.69      0.77       100\n",
      "           1       0.59      0.81      0.68        54\n",
      "\n",
      "    accuracy                           0.73       154\n",
      "   macro avg       0.73      0.75      0.73       154\n",
      "weighted avg       0.77      0.73      0.74       154\n",
      "\n"
     ]
    }
   ],
   "source": [
    "grid_search = GridSearchCV(estimator= DecisionTreeClassifier(),\n",
    "                           param_grid= param_grid,\n",
    "                           scoring= make_scorer(f1_score, average= 'weighted'),\n",
    "                           cv= 10)\n",
    "\n",
    "grid_search.fit(X_sme, y_sme)\n",
    "print(\"Best param: \", grid_search.best_params_)\n",
    "\n",
    "dt_model= grid_search.best_estimator_\n",
    "\n",
    "y_pred= dt_model.predict(X_test)\n",
    "print_scores(y_test, y_pred)"
   ]
  },
  {
   "cell_type": "markdown",
   "id": "66c58ed2",
   "metadata": {},
   "source": [
    "## Random Forest"
   ]
  },
  {
   "cell_type": "code",
   "execution_count": 57,
   "id": "79c625f6",
   "metadata": {},
   "outputs": [],
   "source": [
    "from sklearn.ensemble import RandomForestClassifier\n",
    "model = RandomForestClassifier()"
   ]
  },
  {
   "cell_type": "code",
   "execution_count": 58,
   "id": "858d28d2",
   "metadata": {},
   "outputs": [],
   "source": [
    "param_grid = {\n",
    "    'n_estimators': [50, 100, 200, 250],\n",
    "    'criterion': ['gini', 'entropy']\n",
    "}"
   ]
  },
  {
   "cell_type": "markdown",
   "id": "bc1bcec6",
   "metadata": {},
   "source": [
    "#### Thử với dữ liệu gốc"
   ]
  },
  {
   "cell_type": "code",
   "execution_count": 59,
   "id": "cc7f3b8e",
   "metadata": {},
   "outputs": [
    {
     "name": "stdout",
     "output_type": "stream",
     "text": [
      "Best param:  {'criterion': 'gini', 'n_estimators': 250}\n",
      "              precision    recall  f1-score   support\n",
      "\n",
      "           0       0.81      0.77      0.79       100\n",
      "           1       0.61      0.67      0.64        54\n",
      "\n",
      "    accuracy                           0.73       154\n",
      "   macro avg       0.71      0.72      0.71       154\n",
      "weighted avg       0.74      0.73      0.74       154\n",
      "\n"
     ]
    }
   ],
   "source": [
    "grid_search = GridSearchCV(estimator= RandomForestClassifier(),\n",
    "                           param_grid= param_grid,\n",
    "                           cv= 10,\n",
    "                           scoring= make_scorer(f1_score, average= 'weighted'),\n",
    "                           n_jobs= -1)\n",
    "\n",
    "grid_search.fit(X_train, y_train)\n",
    "print(\"Best param: \", grid_search.best_params_)\n",
    "rf_model = grid_search.best_estimator_\n",
    "y_pred = rf_model.predict(X_test)\n",
    "print_scores(y_test, y_pred)"
   ]
  },
  {
   "cell_type": "markdown",
   "id": "e21f88cf",
   "metadata": {},
   "source": [
    "### Thử với dữ liệu SMOTE"
   ]
  },
  {
   "cell_type": "code",
   "execution_count": 60,
   "id": "13d45a24",
   "metadata": {},
   "outputs": [
    {
     "name": "stdout",
     "output_type": "stream",
     "text": [
      "Best param:  {'criterion': 'gini', 'n_estimators': 250}\n",
      "              precision    recall  f1-score   support\n",
      "\n",
      "           0       0.81      0.74      0.77       100\n",
      "           1       0.59      0.69      0.63        54\n",
      "\n",
      "    accuracy                           0.72       154\n",
      "   macro avg       0.70      0.71      0.70       154\n",
      "weighted avg       0.73      0.72      0.72       154\n",
      "\n"
     ]
    }
   ],
   "source": [
    "grid_search = GridSearchCV(estimator= RandomForestClassifier(),\n",
    "                           param_grid= param_grid,\n",
    "                           cv= 10,\n",
    "                           scoring= make_scorer(f1_score, average= 'weighted'),\n",
    "                           n_jobs= -1)\n",
    "\n",
    "grid_search.fit(X_sm, y_sm)\n",
    "print(\"Best param: \", grid_search.best_params_)\n",
    "rf_model = grid_search.best_estimator_\n",
    "y_pred = rf_model.predict(X_test)\n",
    "print_scores(y_test, y_pred)"
   ]
  },
  {
   "cell_type": "markdown",
   "id": "72a6d2cd",
   "metadata": {},
   "source": [
    "### Thử với dữ liệu SMOTE-ENN"
   ]
  },
  {
   "cell_type": "code",
   "execution_count": 61,
   "id": "282ff8df",
   "metadata": {},
   "outputs": [
    {
     "name": "stdout",
     "output_type": "stream",
     "text": [
      "Best param:  {'criterion': 'entropy', 'n_estimators': 250}\n",
      "              precision    recall  f1-score   support\n",
      "\n",
      "           0       0.86      0.73      0.79       100\n",
      "           1       0.61      0.78      0.68        54\n",
      "\n",
      "    accuracy                           0.75       154\n",
      "   macro avg       0.73      0.75      0.74       154\n",
      "weighted avg       0.77      0.75      0.75       154\n",
      "\n"
     ]
    }
   ],
   "source": [
    "grid_search = GridSearchCV(estimator= RandomForestClassifier(),\n",
    "                           param_grid= param_grid,\n",
    "                           cv= 10,\n",
    "                           scoring= make_scorer(f1_score, average= 'weighted'),\n",
    "                           n_jobs= -1)\n",
    "\n",
    "grid_search.fit(X_sme, y_sme)\n",
    "print(\"Best param: \", grid_search.best_params_)\n",
    "rf_model = grid_search.best_estimator_\n",
    "y_pred = rf_model.predict(X_test)\n",
    "print_scores(y_test, y_pred)"
   ]
  }
 ],
 "metadata": {
  "kernelspec": {
   "display_name": "venv",
   "language": "python",
   "name": "python3"
  },
  "language_info": {
   "codemirror_mode": {
    "name": "ipython",
    "version": 3
   },
   "file_extension": ".py",
   "mimetype": "text/x-python",
   "name": "python",
   "nbconvert_exporter": "python",
   "pygments_lexer": "ipython3",
   "version": "3.11.0"
  }
 },
 "nbformat": 4,
 "nbformat_minor": 5
}
